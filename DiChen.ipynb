{
 "cells": [
  {
   "cell_type": "code",
   "execution_count": 9,
   "metadata": {},
   "outputs": [],
   "source": [
    "from JohnnyChen import findPrimeNumber\n",
    "import random\n",
    "import copy\n",
    "class CountDistinctElementsEstimator:\n",
    "    def __init__(size):\n",
    "        self.size = size\n",
    "        self.eps = 0.5\n",
    "        self.k = findPrimeNumber(size**2, 2*size**2)\n",
    "        self.a = random.randint(1, self.k-1)\n",
    "        self.b = random.randint(1, self.k-1)\n",
    "        self.R = 1\n",
    "        self.z = set()\n",
    "        self.centers = set()\n",
    "    def hash_function(cell):\n",
    "        cell_p = int(cell[0])*self.size + int(cell[1])\n",
    "        return ((cell_p * self.a + self.b) % self.k) % self.R\n",
    "    def maintain_sampled_cells(p):\n",
    "        '''\n",
    "        p is a tuple of length 2\n",
    "        '''\n",
    "        assert(len(p) == 2)\n",
    "        cell_p = (int(p[0]),int(p[1]))\n",
    "        hash_val = self.hash_function(cell_p)\n",
    "        if hash_val == 0:\n",
    "            self.z.add(cell_p)\n",
    "        if self.size**2 - len(self.z) >= 6000 * self.R/self.eps**2:\n",
    "            self.R *= 2\n",
    "            tmp_z = set()\n",
    "            for cell in self.z:\n",
    "                if self.hash_function(cell) == 0:\n",
    "                    tmp_z.add(cell)\n",
    "            self.z = tmp_z\n",
    "    def store_center(p):\n",
    "        cell_p = (int(p[0]), int(p[1]))\n",
    "        I = [-1,0,1]\n",
    "        J = [-1,0,1]\n",
    "        for i in I:\n",
    "            for j in J:\n",
    "                neighbour_cell = (cell_p[0]+i, cell_p[1]+j)\n",
    "                hash_val = hash_function(neighbour_cell)\n",
    "                if hash_val != 0:\n",
    "                    continue\n",
    "                if p not in self.centers and neighbour_cell not in self.z:\n",
    "                    self.centers.add(p)\n",
    "    def compute_weight():\n",
    "        W = 0\n",
    "        centers_prime = copy.deepcopy(self.centers)\n",
    "        for cell in self.z:\n",
    "            w = 0\n",
    "            "
   ]
  },
  {
   "cell_type": "code",
   "execution_count": 4,
   "metadata": {},
   "outputs": [
    {
     "data": {
      "text/plain": [
       "96000"
      ]
     },
     "execution_count": 4,
     "metadata": {},
     "output_type": "execute_result"
    }
   ],
   "source": []
  },
  {
   "cell_type": "code",
   "execution_count": 5,
   "metadata": {},
   "outputs": [
    {
     "data": {
      "text/plain": [
       "41.666666666666664"
      ]
     },
     "execution_count": 5,
     "metadata": {},
     "output_type": "execute_result"
    }
   ],
   "source": []
  },
  {
   "cell_type": "code",
   "execution_count": 10,
   "metadata": {},
   "outputs": [
    {
     "name": "stdout",
     "output_type": "stream",
     "text": [
      "{1, 2, 3, 4} {1, 2, 3}\n"
     ]
    }
   ],
   "source": [
    "a = set([1,2,3])\n",
    "b = copy.deepcopy(a)\n",
    "a.add(4)\n",
    "print(a,b)"
   ]
  },
  {
   "cell_type": "code",
   "execution_count": null,
   "metadata": {},
   "outputs": [],
   "source": []
  }
 ],
 "metadata": {
  "kernelspec": {
   "display_name": "Python 3",
   "language": "python",
   "name": "python3"
  },
  "language_info": {
   "codemirror_mode": {
    "name": "ipython",
    "version": 3
   },
   "file_extension": ".py",
   "mimetype": "text/x-python",
   "name": "python",
   "nbconvert_exporter": "python",
   "pygments_lexer": "ipython3",
   "version": "3.7.6"
  }
 },
 "nbformat": 4,
 "nbformat_minor": 4
}
