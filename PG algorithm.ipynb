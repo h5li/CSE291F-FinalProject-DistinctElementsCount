{
 "cells": [
  {
   "cell_type": "code",
   "execution_count": 1,
   "metadata": {},
   "outputs": [],
   "source": [
    "import math\n",
    "import random\n",
    "import statistics"
   ]
  },
  {
   "cell_type": "code",
   "execution_count": 13,
   "metadata": {},
   "outputs": [
    {
     "name": "stdout",
     "output_type": "stream",
     "text": [
      "17\n"
     ]
    }
   ],
   "source": [
    "stream = [random.randint(1,20) for i in range(50)] #sanity check\n",
    "val_set = set()\n",
    "for v in stream:\n",
    "    val_set.add(v)\n",
    "print(len(val_set))"
   ]
  },
  {
   "cell_type": "code",
   "execution_count": 14,
   "metadata": {},
   "outputs": [],
   "source": [
    "def LinearCountingAlgorithm(stream, s):\n",
    "    M = [0 for i in range(s)]\n",
    "    for value in stream:\n",
    "        M[hash(value)%s] = 1\n",
    "    z = len([m for m in M if m == 0])\n",
    "    return s * math.log(s/z)"
   ]
  },
  {
   "cell_type": "code",
   "execution_count": 19,
   "metadata": {},
   "outputs": [
    {
     "data": {
      "text/plain": [
       "23.02585092994046"
      ]
     },
     "execution_count": 19,
     "metadata": {},
     "output_type": "execute_result"
    }
   ],
   "source": [
    "LinearCountingAlgorithm(stream, 10)"
   ]
  },
  {
   "cell_type": "code",
   "execution_count": 33,
   "metadata": {},
   "outputs": [],
   "source": [
    "def FM_Algorithm(stream, L): #FM algorithm using a single hash function and bit vector\n",
    "    M = [0 for i in range(L)]\n",
    "    for value in stream:\n",
    "        b = 0\n",
    "        if hash(value) != 0:\n",
    "            while (hash(value)%2 == 0):\n",
    "                value = value/2\n",
    "                b += 1\n",
    "        M[b] = 1\n",
    "    Z = 0\n",
    "    for m in M:\n",
    "        if m != 0:\n",
    "            Z += 1\n",
    "        else:\n",
    "            break\n",
    "    return math.floor(2**Z / 0.77351)"
   ]
  },
  {
   "cell_type": "code",
   "execution_count": 34,
   "metadata": {},
   "outputs": [
    {
     "data": {
      "text/plain": [
       "41"
      ]
     },
     "execution_count": 34,
     "metadata": {},
     "output_type": "execute_result"
    }
   ],
   "source": [
    "FM_Algorithm(stream, 10)"
   ]
  },
  {
   "cell_type": "code",
   "execution_count": 35,
   "metadata": {},
   "outputs": [],
   "source": [
    "def PCSA_Algorithm(stream, k, L):\n",
    "    M = [[0 for i in range(L)] for j in range(k)]\n",
    "    for value in stream:\n",
    "        x = hash(value)%k\n",
    "        tmp = math.floor(hash(value)/k)\n",
    "        b = 0\n",
    "        if tmp != 0:\n",
    "            while (tmp % 2 == 0):\n",
    "                tmp = tmp/2\n",
    "                b += 1\n",
    "        M[x][b] = 1\n",
    "    Z = 0\n",
    "    for i in range(k):\n",
    "        z = 0\n",
    "        for j in range(L):\n",
    "            if M[i][j] != 0:\n",
    "                z += 1\n",
    "            else:\n",
    "                break\n",
    "        Z += z\n",
    "    Z = Z/k\n",
    "    return math.floor(2**Z * k / 0.77351)"
   ]
  },
  {
   "cell_type": "code",
   "execution_count": 36,
   "metadata": {},
   "outputs": [
    {
     "data": {
      "text/plain": [
       "29"
      ]
     },
     "execution_count": 36,
     "metadata": {},
     "output_type": "execute_result"
    }
   ],
   "source": [
    "PCSA_Algorithm(stream, 2**2, 5)"
   ]
  },
  {
   "cell_type": "code",
   "execution_count": 45,
   "metadata": {},
   "outputs": [],
   "source": [
    "def LogLogAlgorithm(stream, k):\n",
    "    R = [0 for j in range(k)]\n",
    "    for value in stream:\n",
    "        x = hash(value)%k\n",
    "        tmp = math.floor(hash(value)/k)\n",
    "        b = 0\n",
    "        if tmp != 0:\n",
    "            while (tmp % 2 == 0):\n",
    "                tmp = tmp/2\n",
    "                b += 1\n",
    "        R[x] = max(R[x], b)\n",
    "    Z = sum(R) / k\n",
    "    return math.floor((0.79402*k - 0.84249) * (2**Z))"
   ]
  },
  {
   "cell_type": "code",
   "execution_count": 47,
   "metadata": {},
   "outputs": [
    {
     "data": {
      "text/plain": [
       "24"
      ]
     },
     "execution_count": 47,
     "metadata": {},
     "output_type": "execute_result"
    }
   ],
   "source": [
    "LogLogAlgorithm(stream, 2**5)"
   ]
  },
  {
   "cell_type": "code",
   "execution_count": null,
   "metadata": {},
   "outputs": [],
   "source": [
    "def CoordinatedSamplingAlgorithm(stream, k):\n",
    "    l = [0 for i in range(k)]\n",
    "    S = [set() for i in range(k)]\n",
    "    "
   ]
  }
 ],
 "metadata": {
  "kernelspec": {
   "display_name": "Python 3",
   "language": "python",
   "name": "python3"
  },
  "language_info": {
   "codemirror_mode": {
    "name": "ipython",
    "version": 3
   },
   "file_extension": ".py",
   "mimetype": "text/x-python",
   "name": "python",
   "nbconvert_exporter": "python",
   "pygments_lexer": "ipython3",
   "version": "3.7.6"
  }
 },
 "nbformat": 4,
 "nbformat_minor": 4
}
