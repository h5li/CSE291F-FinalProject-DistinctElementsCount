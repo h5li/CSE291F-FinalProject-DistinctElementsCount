{
 "cells": [
  {
   "cell_type": "code",
   "execution_count": 61,
   "metadata": {},
   "outputs": [],
   "source": [
    "import random\n",
    "import math\n",
    "import statistics"
   ]
  },
  {
   "cell_type": "code",
   "execution_count": 62,
   "metadata": {},
   "outputs": [],
   "source": [
    "_memomask = {}\n",
    "def random_hf(n):\n",
    "    mask = _memomask.get(n)\n",
    "    if mask is None:\n",
    "        random.seed(n)\n",
    "        mask = _memomask[n] = random.getrandbits(32)\n",
    "    def myhash(x):\n",
    "        return hash(x) ^ mask\n",
    "    return myhash\n",
    "\n",
    "def lsb(a):\n",
    "    return a%2"
   ]
  },
  {
   "cell_type": "code",
   "execution_count": 78,
   "metadata": {},
   "outputs": [],
   "source": [
    "class RoughEstimator:\n",
    "    def __init__(self, n):\n",
    "        self.n = n\n",
    "        self.K_RE = math.ceil(max(8, math.log(n,2)/math.log(math.log(n,2),2)))\n",
    "        self.counters_RE = [[-1 for i in range(self.K_RE)] for j in range(3)]\n",
    "        hfs_index = random.sample([i for i in range(n)], k=9)\n",
    "        self.hfs = [[random_hf(hfs_index[0]), random_hf(hfs_index[1]), random_hf(hfs_index[2])], \n",
    "                    [random_hf(hfs_index[3]), random_hf(hfs_index[4]), random_hf(hfs_index[5])],\n",
    "                    [random_hf(hfs_index[6]), random_hf(hfs_index[7]), random_hf(hfs_index[8])]]\n",
    "    \n",
    "    def update(self, i):\n",
    "        for j in range(3):\n",
    "            self.counters_RE[j][self.hfs[j][2](self.hfs[j][1](i)%(self.K_RE**3))%self.K_RE] = max(self.counters_RE[j][self.hfs[j][2](self.hfs[j][1](i)%(self.K_RE**3))%self.K_RE], lsb(self.hfs[j][0](i)%(self.n-1)))\n",
    "    \n",
    "    def estimate(self):\n",
    "        rou = 0.99 * (1 - math.exp(-1/3))\n",
    "        Fs = [-1, -1, -1]\n",
    "        for j in range(3):\n",
    "            r = 0\n",
    "            T = len([c for c in self.counters_RE[j] if c >= r])\n",
    "            if T >= rou * self.K_RE:\n",
    "                while (T >= rou * self.K_RE):\n",
    "                    r += 1\n",
    "                    T = len([c for c in self.counters_RE[j] if c >= r])\n",
    "                Fs[j] = 2**r * self.K_RE\n",
    "            else:\n",
    "                Fs[j] = -1\n",
    "        return statistics.median(Fs)"
   ]
  },
  {
   "cell_type": "code",
   "execution_count": 93,
   "metadata": {},
   "outputs": [],
   "source": [
    "DATA = [random.randint(100,200) for i in range(1000)] #for sanity check"
   ]
  },
  {
   "cell_type": "code",
   "execution_count": 96,
   "metadata": {},
   "outputs": [],
   "source": [
    "data = DATA\n",
    "\n",
    "epsilon = 0.2\n",
    "K = math.ceil(1/(epsilon ** 2))\n",
    "counters = [(-1) for i in range(K)]\n",
    "A = b = est = 0\n",
    "\n",
    "failed = False\n",
    "n = len(data)\n",
    "hfs_index = random.sample([i for i in range(n)], k = 3)\n",
    "hfs = [random_hf(hfs_index[0]), random_hf(hfs_index[1]), random_hf(hfs_index[2])]\n",
    "RE = RoughEstimator(n)\n",
    "for i in data:\n",
    "    x = max(counters[hfs[2](hfs[1](i)%(K**3))%K], lsb(hfs[0](i)%(n-1))-b)\n",
    "    A = A - math.ceil(math.log(2 + counters[hfs[2](hfs[1](i)%(K**3))%K],2)) + math.ceil(math.log(2+x,2))\n",
    "    if A > 3 * K:\n",
    "        failed = True\n",
    "        print('FAIL')\n",
    "        break\n",
    "    counters[hfs[2](hfs[1](i)%(K**3))%K] = x\n",
    "    RE.update(i)\n",
    "    R = RE.estimate()\n",
    "    if R > 2 ** est:\n",
    "        est = math.log(R,2)\n",
    "        b_new = max(0, est - math.log(K/32,2))\n",
    "        for j in range(K):\n",
    "            counters[j] = max(-1, counters[j] + b - b_new)\n",
    "        b = b_new\n",
    "        A = sum([math.log(c+2,2) for c in counters])\n",
    "        \n",
    "T = len([c for c in counters if c >= 0])\n",
    "F0 = (2**b) * math.log(1-T/K) / math.log(1-1/K)"
   ]
  },
  {
   "cell_type": "code",
   "execution_count": 97,
   "metadata": {},
   "outputs": [
    {
     "name": "stdout",
     "output_type": "stream",
     "text": [
      "estimation result : -0.0\n"
     ]
    }
   ],
   "source": [
    "print('estimation result :', F0)"
   ]
  },
  {
   "cell_type": "code",
   "execution_count": null,
   "metadata": {},
   "outputs": [],
   "source": []
  }
 ],
 "metadata": {
  "kernelspec": {
   "display_name": "Python 3",
   "language": "python",
   "name": "python3"
  },
  "language_info": {
   "codemirror_mode": {
    "name": "ipython",
    "version": 3
   },
   "file_extension": ".py",
   "mimetype": "text/x-python",
   "name": "python",
   "nbconvert_exporter": "python",
   "pygments_lexer": "ipython3",
   "version": "3.7.6"
  }
 },
 "nbformat": 4,
 "nbformat_minor": 4
}
