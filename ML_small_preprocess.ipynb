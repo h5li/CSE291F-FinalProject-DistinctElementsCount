{
 "cells": [
  {
   "cell_type": "code",
   "execution_count": 1,
   "metadata": {},
   "outputs": [],
   "source": [
    "import csv"
   ]
  },
  {
   "cell_type": "code",
   "execution_count": 6,
   "metadata": {},
   "outputs": [
    {
     "name": "stdout",
     "output_type": "stream",
     "text": [
      "100836\n",
      "610\n",
      "9724\n"
     ]
    }
   ],
   "source": [
    "user_movie_tuples = []\n",
    "users = set()\n",
    "movies = set()\n",
    "\n",
    "with open('ml_small/ratings.csv') as csv_file:\n",
    "    csv_reader = csv.reader(csv_file, delimiter=',')\n",
    "    first_line = True\n",
    "    for row in csv_reader:\n",
    "        if first_line:\n",
    "            first_line = False\n",
    "        else:\n",
    "            user_movie_tuples.append([int(row[0]), int(row[1])])\n",
    "            users.add(int(row[0]))\n",
    "            movies.add(int(row[1]))\n",
    "\n",
    "print(len(user_movie_tuples))\n",
    "print(len(users))\n",
    "print(len(movies))"
   ]
  },
  {
   "cell_type": "code",
   "execution_count": 5,
   "metadata": {},
   "outputs": [
    {
     "data": {
      "text/plain": [
       "[[1, 1],\n",
       " [1, 3],\n",
       " [1, 6],\n",
       " [1, 47],\n",
       " [1, 50],\n",
       " [1, 70],\n",
       " [1, 101],\n",
       " [1, 110],\n",
       " [1, 151],\n",
       " [1, 157]]"
      ]
     },
     "execution_count": 5,
     "metadata": {},
     "output_type": "execute_result"
    }
   ],
   "source": [
    "user_movie_tuples[:10]"
   ]
  },
  {
   "cell_type": "code",
   "execution_count": 19,
   "metadata": {},
   "outputs": [],
   "source": [
    "with open('ml_small_user_movie_tuples.csv', mode='w', newline='') as um_file:\n",
    "    um_writer = csv.writer(um_file, delimiter=',', quotechar='\"', quoting=csv.QUOTE_MINIMAL)\n",
    "    for um in user_movie_tuples:\n",
    "        um_writer.writerow([um[0], um[1]])\n",
    "\n",
    "with open('ml_small_userids.csv', mode='w', newline='') as userid_file:\n",
    "    userid_writer = csv.writer(userid_file, delimiter=',', quotechar='\"', quoting=csv.QUOTE_MINIMAL)\n",
    "    for um in user_movie_tuples:\n",
    "        userid_writer.writerow([um[0]])\n",
    "\n",
    "with open('ml_small_movieids.csv', mode='w', newline='') as movieid_file:\n",
    "    movieid_writer = csv.writer(movieid_file, delimiter=',', quotechar='\"', quoting=csv.QUOTE_MINIMAL)\n",
    "    for um in user_movie_tuples:\n",
    "        movieid_writer.writerow([um[1]])"
   ]
  },
  {
   "cell_type": "code",
   "execution_count": null,
   "metadata": {},
   "outputs": [],
   "source": []
  }
 ],
 "metadata": {
  "kernelspec": {
   "display_name": "Python 3",
   "language": "python",
   "name": "python3"
  },
  "language_info": {
   "codemirror_mode": {
    "name": "ipython",
    "version": 3
   },
   "file_extension": ".py",
   "mimetype": "text/x-python",
   "name": "python",
   "nbconvert_exporter": "python",
   "pygments_lexer": "ipython3",
   "version": "3.7.6"
  }
 },
 "nbformat": 4,
 "nbformat_minor": 4
}
