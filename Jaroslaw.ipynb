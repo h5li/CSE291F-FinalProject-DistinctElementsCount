{
 "cells": [
  {
   "cell_type": "code",
   "execution_count": 4,
   "metadata": {},
   "outputs": [],
   "source": [
    "import numpy as np\n",
    "import math\n",
    "import random\n",
    "from JohnnyChen import findPrimeNumber\n",
    "import gmpy\n",
    "def count(elements, n):\n",
    "    if len(elements) == 0:\n",
    "        return 0\n",
    "    max_bit = -1\n",
    "    p = findPrimeNumber(n,2*n)\n",
    "    a = random.randint(1,p-1)\n",
    "    b = random.randint(1,p-1)\n",
    "\n",
    "    for e in elements:\n",
    "        remainder = ((a*e + b) % p) % n\n",
    "        max_bit = max(max_bit, gmpy.scan1(int(remainder)))\n",
    "    return 2 ** max_bit\n",
    "def count_advanced(elements, n, delta):\n",
    "    result = []\n",
    "    for i in range(int(np.log2(1/delta))):\n",
    "        result.append(count(elements, n))\n",
    "    return np.median(result)"
   ]
  },
  {
   "cell_type": "code",
   "execution_count": 16,
   "metadata": {},
   "outputs": [
    {
     "name": "stdout",
     "output_type": "stream",
     "text": [
      "854\n"
     ]
    }
   ],
   "source": [
    "success = 0\n",
    "for i in range(1000):\n",
    "    elements = list(np.random.randint(128,250,128)) + list(np.random.randint(0,127,140)) + list(np.random.randint(251,300,40))\n",
    "    r = count(elements, 300)\n",
    "    true_r = len(set(elements))\n",
    "    if r >= 2**(int(np.log2(true_r))) and r <= 2**(math.ceil(np.log2(true_r))):\n",
    "        success += 1\n",
    "print(success)"
   ]
  },
  {
   "cell_type": "code",
   "execution_count": 7,
   "metadata": {},
   "outputs": [
    {
     "data": {
      "text/plain": [
       "3"
      ]
     },
     "execution_count": 7,
     "metadata": {},
     "output_type": "execute_result"
    }
   ],
   "source": [
    "gmpy.scan1(136)"
   ]
  },
  {
   "cell_type": "code",
   "execution_count": null,
   "metadata": {},
   "outputs": [],
   "source": []
  }
 ],
 "metadata": {
  "kernelspec": {
   "display_name": "Python 3",
   "language": "python",
   "name": "python3"
  },
  "language_info": {
   "codemirror_mode": {
    "name": "ipython",
    "version": 3
   },
   "file_extension": ".py",
   "mimetype": "text/x-python",
   "name": "python",
   "nbconvert_exporter": "python",
   "pygments_lexer": "ipython3",
   "version": "3.7.6"
  }
 },
 "nbformat": 4,
 "nbformat_minor": 4
}
