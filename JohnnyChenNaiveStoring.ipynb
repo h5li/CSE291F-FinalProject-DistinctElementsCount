{
 "cells": [
  {
   "cell_type": "code",
   "execution_count": 1,
   "metadata": {},
   "outputs": [],
   "source": [
    "import numpy as np\n",
    "import math\n",
    "import random\n",
    "from JohnnyChen import *\n",
    "import gmpy\n",
    "import pandas as pd\n",
    "from tqdm import tqdm\n",
    "# Load data\n",
    "airbnb = np.load('./data/airbnb_location.npy')\n",
    "google = np.array(pd.read_csv('./data/google_play_apps.csv', header=None)[0])\n",
    "movie_id = np.array(pd.read_csv('./data/ml_small_movieids.csv', header=None)[0])\n",
    "user_id = np.array(pd.read_csv('./data/ml_small_userids.csv', header=None)[0])\n",
    "# Test Airbnb\n",
    "def test_naive_storing(elements,m):\n",
    "    np.random.shuffle(elements)\n",
    "    success = 0\n",
    "    result_list = []\n",
    "    true_r = len(set(elements))\n",
    "    for i in tqdm(range(100)):\n",
    "        r = naive_storing(elements,m,0.05)\n",
    "        result_list.append(r)\n",
    "        if r >= 0.5*true_r and r <= 1.5*true_r:\n",
    "            success += 1\n",
    "    return true_r, np.mean(result_list),np.var(result_list),success\n",
    "# Test Airbnb\n",
    "def test_naive_storing_median_of_means(elements,m):\n",
    "    np.random.shuffle(elements)\n",
    "    success = 0\n",
    "    result_list = []\n",
    "    true_r = len(set(elements))\n",
    "    for i in tqdm(range(100)):\n",
    "        sub_r = []\n",
    "        for i in range(5):\n",
    "            sum_r = 0\n",
    "            for j in range(20):\n",
    "                r = naive_storing(elements,m,0.05)\n",
    "                sum_r += r\n",
    "            sub_r.append(sum_r/20)\n",
    "        result_list.append(np.median(sub_r))\n",
    "        if np.median(sub_r) >= 0.5*true_r and np.median(sub_r) <= 1.5*true_r:\n",
    "            success += 1\n",
    "    return true_r, np.mean(result_list),np.var(result_list),success"
   ]
  },
  {
   "cell_type": "code",
   "execution_count": 2,
   "metadata": {},
   "outputs": [
    {
     "name": "stderr",
     "output_type": "stream",
     "text": [
      "100%|██████████| 100/100 [00:23<00:00,  4.20it/s]\n",
      "  0%|          | 0/100 [00:00<?, ?it/s]/Users/androidap/Desktop/UCSD/2020 Fall/CSE291F/CSE291F-FinalProject-DistinctElementsCount/JohnnyChen.py:99: RuntimeWarning: overflow encountered in long_scalars\n",
      "  hash_val = A[i]*e % p\n"
     ]
    },
    {
     "name": "stdout",
     "output_type": "stream",
     "text": [
      "(4112, 8192.0, 0.0, 0)\n"
     ]
    },
    {
     "name": "stderr",
     "output_type": "stream",
     "text": [
      "100%|██████████| 100/100 [01:18<00:00,  1.28it/s]\n",
      "  0%|          | 0/100 [00:00<?, ?it/s]"
     ]
    },
    {
     "name": "stdout",
     "output_type": "stream",
     "text": [
      "(1074, 1024.0, 0.0, 100)\n"
     ]
    },
    {
     "name": "stderr",
     "output_type": "stream",
     "text": [
      "100%|██████████| 100/100 [01:04<00:00,  1.56it/s]\n",
      "  0%|          | 0/100 [00:00<?, ?it/s]"
     ]
    },
    {
     "name": "stdout",
     "output_type": "stream",
     "text": [
      "(9724, 8192.0, 0.0, 100)\n"
     ]
    },
    {
     "name": "stderr",
     "output_type": "stream",
     "text": [
      "100%|██████████| 100/100 [01:03<00:00,  1.57it/s]"
     ]
    },
    {
     "name": "stdout",
     "output_type": "stream",
     "text": [
      "(610, 512.0, 0.0, 100)\n"
     ]
    },
    {
     "name": "stderr",
     "output_type": "stream",
     "text": [
      "\n"
     ]
    }
   ],
   "source": [
    "print(test_naive_storing(airbnb,10000))\n",
    "print(test_naive_storing(google,1500))\n",
    "print(test_naive_storing(movie_id,10000))\n",
    "print(test_naive_storing(user_id,1000))"
   ]
  },
  {
   "cell_type": "code",
   "execution_count": null,
   "metadata": {},
   "outputs": [],
   "source": []
  }
 ],
 "metadata": {
  "kernelspec": {
   "display_name": "Python 3",
   "language": "python",
   "name": "python3"
  },
  "language_info": {
   "codemirror_mode": {
    "name": "ipython",
    "version": 3
   },
   "file_extension": ".py",
   "mimetype": "text/x-python",
   "name": "python",
   "nbconvert_exporter": "python",
   "pygments_lexer": "ipython3",
   "version": "3.7.6"
  }
 },
 "nbformat": 4,
 "nbformat_minor": 4
}
